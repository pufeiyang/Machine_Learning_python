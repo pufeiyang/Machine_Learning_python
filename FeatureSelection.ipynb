{
 "cells": [
  {
   "cell_type": "markdown",
   "id": "5f9f0e58",
   "metadata": {},
   "source": [
    "# Import Module"
   ]
  },
  {
   "cell_type": "code",
   "execution_count": 79,
   "id": "bf4dcda6",
   "metadata": {},
   "outputs": [],
   "source": [
    "from email import header\n",
    "import pandas as pd\n",
    "import numpy as np\n",
    "from scipy.stats import pearsonr\n",
    "import matplotlib.pyplot as plt\n",
    "from sklearn.feature_selection import RFE\n",
    "from sklearn.linear_model import LogisticRegression\n",
    "from sklearn.feature_selection import SelectFromModel\n",
    "from sklearn.model_selection import cross_val_score\n",
    "from sklearn.ensemble import RandomForestClassifier"
   ]
  },
  {
   "cell_type": "markdown",
   "id": "4f856a8a",
   "metadata": {},
   "source": [
    "# Load Dataset"
   ]
  },
  {
   "cell_type": "code",
   "execution_count": 60,
   "id": "abff22ed",
   "metadata": {},
   "outputs": [],
   "source": [
    "#load dataset\n",
    "df = pd.read_csv('MAP_dataset.csv')\n",
    "df_x, df_y = df.iloc[:,0:-1], df.iloc[:,-1]\n",
    "x, y = df_x.values, df_y.values\n",
    "columns_name = df_x.columns.values.tolist()"
   ]
  },
  {
   "cell_type": "markdown",
   "id": "a8e55a43",
   "metadata": {},
   "source": [
    "# Pearson Correlation Coefficient"
   ]
  },
  {
   "cell_type": "markdown",
   "id": "9e302326",
   "metadata": {},
   "source": [
    "## Pearson correlation coefficient and p-value for testing non-correlation.\n",
    "The Pearson correlation coefficient measures the linear relationship between two datasets. The calculation of the p-value relies on the assumption that each dataset is normally distributed. Like other correlation coefficients, this one varies between -1 and +1 with 0 implying no correlation. Correlations of -1 or +1 imply an exact linear relationship.\n",
    "## Parameters\n",
    "x : (N,) array_like  \n",
    "    Input array.  \n",
    "y : (N,) array_like  \n",
    "    Input array.   \n",
    "## Returns\n",
    "r : float  \n",
    "    Pearson's correlation coefficient.  \n",
    "p-value : float  \n",
    "    Two-tailed p-value."
   ]
  },
  {
   "cell_type": "code",
   "execution_count": 66,
   "id": "6de73132",
   "metadata": {},
   "outputs": [],
   "source": [
    "cor_list = []\n",
    "p_list = []\n",
    "for i in range(x.shape[1]):\n",
    "    cor, p = pearsonr(x[:,i],y)\n",
    "    cor_list.append(cor)\n",
    "    p_list.append(p)\n",
    "df = pd.DataFrame([cor_list,p_list],columns=columns_name,index=[\"correlation coefficient\",\"p-value\"])"
   ]
  },
  {
   "cell_type": "code",
   "execution_count": 62,
   "id": "c04f1a42",
   "metadata": {},
   "outputs": [
    {
     "data": {
      "text/html": [
       "<div>\n",
       "<style scoped>\n",
       "    .dataframe tbody tr th:only-of-type {\n",
       "        vertical-align: middle;\n",
       "    }\n",
       "\n",
       "    .dataframe tbody tr th {\n",
       "        vertical-align: top;\n",
       "    }\n",
       "\n",
       "    .dataframe thead th {\n",
       "        text-align: right;\n",
       "    }\n",
       "</style>\n",
       "<table border=\"1\" class=\"dataframe\">\n",
       "  <thead>\n",
       "    <tr style=\"text-align: right;\">\n",
       "      <th></th>\n",
       "      <th>Heart_Rate</th>\n",
       "      <th>T0_MAP</th>\n",
       "      <th>BMI</th>\n",
       "      <th>Height</th>\n",
       "      <th>Age</th>\n",
       "      <th>T0_SBP</th>\n",
       "      <th>SBP</th>\n",
       "      <th>Weight</th>\n",
       "      <th>T0_HR</th>\n",
       "      <th>DBP</th>\n",
       "      <th>...</th>\n",
       "      <th>Operation</th>\n",
       "      <th>Sex_1</th>\n",
       "      <th>Allergy</th>\n",
       "      <th>Sex_2</th>\n",
       "      <th>Drinking</th>\n",
       "      <th>Smoking</th>\n",
       "      <th>Cancer</th>\n",
       "      <th>Anemia</th>\n",
       "      <th>Hepatitis</th>\n",
       "      <th>Hypertension</th>\n",
       "    </tr>\n",
       "  </thead>\n",
       "  <tbody>\n",
       "    <tr>\n",
       "      <th>correlation coefficient</th>\n",
       "      <td>0.119491</td>\n",
       "      <td>-0.092450</td>\n",
       "      <td>0.099930</td>\n",
       "      <td>-0.152645</td>\n",
       "      <td>0.114512</td>\n",
       "      <td>0.062968</td>\n",
       "      <td>0.021732</td>\n",
       "      <td>-0.003311</td>\n",
       "      <td>0.103342</td>\n",
       "      <td>-0.136952</td>\n",
       "      <td>...</td>\n",
       "      <td>-0.174949</td>\n",
       "      <td>-0.041376</td>\n",
       "      <td>0.128911</td>\n",
       "      <td>0.041376</td>\n",
       "      <td>-0.087723</td>\n",
       "      <td>-0.101642</td>\n",
       "      <td>-0.079332</td>\n",
       "      <td>-0.087547</td>\n",
       "      <td>-0.028980</td>\n",
       "      <td>-0.125450</td>\n",
       "    </tr>\n",
       "    <tr>\n",
       "      <th>p-value</th>\n",
       "      <td>0.134805</td>\n",
       "      <td>0.247956</td>\n",
       "      <td>0.211573</td>\n",
       "      <td>0.055528</td>\n",
       "      <td>0.151950</td>\n",
       "      <td>0.431873</td>\n",
       "      <td>0.786371</td>\n",
       "      <td>0.967061</td>\n",
       "      <td>0.196310</td>\n",
       "      <td>0.086183</td>\n",
       "      <td>...</td>\n",
       "      <td>0.027906</td>\n",
       "      <td>0.605726</td>\n",
       "      <td>0.106470</td>\n",
       "      <td>0.605726</td>\n",
       "      <td>0.273068</td>\n",
       "      <td>0.203812</td>\n",
       "      <td>0.321768</td>\n",
       "      <td>0.274038</td>\n",
       "      <td>0.717758</td>\n",
       "      <td>0.116282</td>\n",
       "    </tr>\n",
       "  </tbody>\n",
       "</table>\n",
       "<p>2 rows × 27 columns</p>\n",
       "</div>"
      ],
      "text/plain": [
       "                         Heart_Rate    T0_MAP       BMI    Height       Age  \\\n",
       "correlation coefficient    0.119491 -0.092450  0.099930 -0.152645  0.114512   \n",
       "p-value                    0.134805  0.247956  0.211573  0.055528  0.151950   \n",
       "\n",
       "                           T0_SBP       SBP    Weight     T0_HR       DBP  \\\n",
       "correlation coefficient  0.062968  0.021732 -0.003311  0.103342 -0.136952   \n",
       "p-value                  0.431873  0.786371  0.967061  0.196310  0.086183   \n",
       "\n",
       "                         ...  Operation     Sex_1   Allergy     Sex_2  \\\n",
       "correlation coefficient  ...  -0.174949 -0.041376  0.128911  0.041376   \n",
       "p-value                  ...   0.027906  0.605726  0.106470  0.605726   \n",
       "\n",
       "                         Drinking   Smoking    Cancer    Anemia  Hepatitis  \\\n",
       "correlation coefficient -0.087723 -0.101642 -0.079332 -0.087547  -0.028980   \n",
       "p-value                  0.273068  0.203812  0.321768  0.274038   0.717758   \n",
       "\n",
       "                         Hypertension  \n",
       "correlation coefficient     -0.125450  \n",
       "p-value                      0.116282  \n",
       "\n",
       "[2 rows x 27 columns]"
      ]
     },
     "execution_count": 62,
     "metadata": {},
     "output_type": "execute_result"
    }
   ],
   "source": [
    "df"
   ]
  },
  {
   "cell_type": "code",
   "execution_count": 63,
   "id": "7b10b624",
   "metadata": {},
   "outputs": [
    {
     "data": {
      "image/png": "[encoded data removed]",
      "text/plain": [
       "<Figure size 432x288 with 1 Axes>"
      ]
     },
     "metadata": {
      "needs_background": "light"
     },
     "output_type": "display_data"
    }
   ],
   "source": [
    "df.T.plot(kind='bar')\n",
    "plt.show()"
   ]
  },
  {
   "cell_type": "markdown",
   "id": "1e9183cf",
   "metadata": {},
   "source": [
    "# Recursive Feature Elimination"
   ]
  },
  {
   "cell_type": "markdown",
   "id": "6d423f9b",
   "metadata": {},
   "source": [
    "# Feature ranking with recursive feature elimination.\n",
    "Given an external estimator that assigns weights to features (e.g., the coefficients of a linear model), the goal of recursive feature elimination (RFE) is to select features by recursively considering smaller and smaller sets of features. First, the estimator is trained on the initial set of features and the importance of each feature is obtained either through any specific attribute or callable. Then, the least important features are pruned from current set of features. That procedure is recursively repeated on the pruned set until the desired number of features to select is eventually reached.\n",
    "# Parameters\n",
    "estimator : Estimator instance  \n",
    "    A supervised learning estimator with a fit method that provides information about feature importance (e.g. coef_, feature_importances_).  \n",
    "n_features_to_select : int or float, default=None  \n",
    "    The number of features to select. If None, half of the features are selected. If integer, the parameter is the absolute number of features to select. If float between 0 and 1, it is the fraction of features to select.  \n",
    "step : int or float, default=1  \n",
    "    If greater than or equal to 1, then step corresponds to the (integer) number of features to remove at each iteration. If within (0.0, 1.0), then step corresponds to the percentage (rounded down) of features to remove at each iteration.  \n",
    "verbose : int, default=0  \n",
    "    Controls verbosity of output.  \n",
    "importance_getter : str or callable, default='auto'  \n",
    "    If 'auto', uses the feature importance either through a coef_ or feature_importances_ attributes of estimator."
   ]
  },
  {
   "cell_type": "code",
   "execution_count": 75,
   "id": "35828e47",
   "metadata": {
    "scrolled": false
   },
   "outputs": [
    {
     "name": "stdout",
     "output_type": "stream",
     "text": [
      "(158, 10)\n"
     ]
    }
   ],
   "source": [
    "x_new = RFE(estimator=LogisticRegression(), n_features_to_select=10).fit_transform(x, y)\n",
    "print(x_new.shape)"
   ]
  },
  {
   "cell_type": "markdown",
   "id": "7f52c3a1",
   "metadata": {},
   "source": [
    "# Embedded"
   ]
  },
  {
   "cell_type": "markdown",
   "id": "289bea21",
   "metadata": {},
   "source": [
    "## Meta-transformer for selecting features based on importance weights.\n",
    "## Parameters\n",
    "estimator : object  \n",
    "    The base estimator from which the transformer is built. This can be both a fitted (if prefit is set to True) or a non-fitted estimator. The estimator should have a feature_importances_ or coef_ attribute after fitting. Otherwise, the importance_getter parameter should be used.  \n",
    "threshold : str or float, default=None  \n",
    "    The threshold value to use for feature selection. Features whose importance is greater or equal are kept while the others are discarded. If \"median\" (resp. \"mean\"), then the threshold value is the median (resp. the mean) of the feature importances. A scaling factor (e.g., \"1.25*mean\") may also be used. If None and if the estimator has a parameter penalty set to l1, either explicitly or implicitly (e.g, Lasso), the threshold used is 1e-5. Otherwise, \"mean\" is used by default.  \n",
    "prefit : bool, default=False  \n",
    "    Whether a prefit model is expected to be passed into the constructor directly or not. If True, estimator must be a fitted estimator. If False, estimator is fitted and updated by calling fit and partial_fit, respectively.  \n",
    "norm_order : non-zero int, inf, -inf, default=1  \n",
    "    Order of the norm used to filter the vectors of coefficients below threshold in the case where the coef_ attribute of the estimator is of dimension 2.  \n",
    "max_features : int, callable, default=None  \n",
    "    The maximum number of features to select.  \n",
    "If an integer, then it specifies the maximum number of features to allow.  \n",
    "If a callable, then it specifies how to calculate the maximum number of features allowed by using the output of max_feaures(X).  \n",
    "If None, then all features are kept.  \n",
    "    To only select based on max_features, set threshold=-np.inf.  \n",
    "importance_getter : str or callable, default='auto'  \n",
    "    If 'auto', uses the feature importance either through a coef_ attribute or feature_importances_ attribute of estimator."
   ]
  },
  {
   "cell_type": "code",
   "execution_count": 76,
   "id": "bc0f4895",
   "metadata": {},
   "outputs": [
    {
     "name": "stdout",
     "output_type": "stream",
     "text": [
      "(158, 16)\n"
     ]
    }
   ],
   "source": [
    "x_new = SelectFromModel(LogisticRegression(penalty=\"l1\", C=1, solver='liblinear')).fit_transform(x, y)\n",
    "print(x_new.shape)"
   ]
  },
  {
   "cell_type": "markdown",
   "id": "66d9a6ce",
   "metadata": {},
   "source": [
    "## Feature importance"
   ]
  },
  {
   "cell_type": "markdown",
   "id": "5e3d99ef",
   "metadata": {},
   "source": [
    "Feature ranking based on learning models The idea of this approach is to build a predictive model for each individual feature and response variable directly using the machine learning algorithm you want to use. If the relationship between a feature and response variable is non-linear, you can use a tree-based approach (decision tree, random forest), or an extended linear model, etc. Tree-based methods are easier to use because they model the nonlinear relationship better and do not require much debugging. However, attention should be paid to the overfitting problem, so the depth of the tree should preferably not be too large, and then cross-validation should be applied. The features are scored by this training to obtain correlations before training the final model."
   ]
  },
  {
   "cell_type": "markdown",
   "id": "c45755f4",
   "metadata": {},
   "source": [
    "## Parameters\n",
    "estimator : estimator object implementing 'fit'\n",
    "    The object to use to fit the data.\n",
    "\n",
    "X : array-like of shape (n_samples, n_features)\n",
    "    The data to fit. Can be for example a list, or an array.\n",
    "\n",
    "y : array-like of shape (n_samples,) or (n_samples, n_outputs), default=None\n",
    "    The target variable to try to predict in the case of supervised learning.\n",
    "\n",
    "groups : array-like of shape (n_samples,), default=None\n",
    "    Group labels for the samples used while splitting the dataset into train/test set. Only used in conjunction with a \"Group\" cv instance (e.g., GroupKFold).\n",
    "\n",
    "scoring : str or callable, default=None\n",
    "    A str (see model evaluation documentation) or a scorer callable object / function with signature scorer(estimator, X, y) which should return only a single value.\n",
    "\n",
    "    Similar to cross_validate but only a single metric is permitted.\n",
    "\n",
    "    If None, the estimator's default scorer (if available) is used.\n",
    "\n",
    "cv : int, cross-validation generator or an iterable, default=None\n",
    "    Determines the cross-validation splitting strategy. Possible inputs for cv are:\n",
    "\n",
    "None, to use the default 5-fold cross validation,\n",
    "int, to specify the number of folds in a (Stratified)KFold,\n",
    "CV splitter,\n",
    "An iterable that generates (train, test) splits as arrays of indices.\n",
    "    For int/None inputs, if the estimator is a classifier and y is either binary or multiclass, StratifiedKFold is used. In all other cases, KFold is used. These splitters are instantiated with shuffle=False so the splits will be the same across calls.\n",
    "\n",
    "    Refer User Guide <cross_validation> for the various cross-validation strategies that can be used here.\n",
    "\n",
    "n_jobs : int, default=None\n",
    "    Number of jobs to run in parallel. Training the estimator and computing the score are parallelized over the cross-validation splits. None means 1 unless in a joblib.parallel_backend context. -1 means using all processors. See Glossary <n_jobs> for more details.\n",
    "\n",
    "verbose : int, default=0\n",
    "    The verbosity level.\n",
    "\n",
    "fit_params : dict, default=None\n",
    "    Parameters to pass to the fit method of the estimator.\n",
    "\n",
    "pre_dispatch : int or str, default='2*n_jobs'\n",
    "    Controls the number of jobs that get dispatched during parallel execution. Reducing this number can be useful to avoid an explosion of memory consumption when more jobs get dispatched than CPUs can process. This parameter can be:\n",
    "\n",
    "- `None`, in which case all the jobs are immediately\n",
    "created and spawned. Use this for lightweight and fast-running jobs, to avoid delays due to on-demand spawning of the jobs\n",
    "\n",
    "- An int, giving the exact number of total jobs that are\n",
    "spawned\n",
    "\n",
    "- A str, giving an expression as a function of n\\_jobs,\n",
    "as in '2*n_jobs'\n",
    "\n",
    "error_score : 'raise' or numeric, default=np.nan\n",
    "    Value to assign to the score if an error occurs in estimator fitting. If set to 'raise', the error is raised. If a numeric value is given, FitFailedWarning is raised.\n",
    "\n",
    "## Returns\n",
    "scores : ndarray of float of shape=(len(list(cv)),)\n",
    "    Array of scores of the estimator for each run of the cross validation."
   ]
  },
  {
   "cell_type": "code",
   "execution_count": 91,
   "id": "c5318ef8",
   "metadata": {
    "scrolled": true
   },
   "outputs": [],
   "source": [
    "rf = RandomForestClassifier(n_estimators=20, max_depth=4)\n",
    "scores = []\n",
    "for i in range(x.shape[1]):\n",
    "    score = cross_val_score(rf, x[:,i:i+1], y, scoring='accuracy', cv=3)\n",
    "    scores.append(np.mean(score))\n",
    "df = pd.DataFrame([scores],columns=columns_name,index=['accuracy'])"
   ]
  },
  {
   "cell_type": "code",
   "execution_count": 92,
   "id": "7861f35c",
   "metadata": {},
   "outputs": [
    {
     "data": {
      "text/html": [
       "<div>\n",
       "<style scoped>\n",
       "    .dataframe tbody tr th:only-of-type {\n",
       "        vertical-align: middle;\n",
       "    }\n",
       "\n",
       "    .dataframe tbody tr th {\n",
       "        vertical-align: top;\n",
       "    }\n",
       "\n",
       "    .dataframe thead th {\n",
       "        text-align: right;\n",
       "    }\n",
       "</style>\n",
       "<table border=\"1\" class=\"dataframe\">\n",
       "  <thead>\n",
       "    <tr style=\"text-align: right;\">\n",
       "      <th></th>\n",
       "      <th>Heart_Rate</th>\n",
       "      <th>T0_MAP</th>\n",
       "      <th>BMI</th>\n",
       "      <th>Height</th>\n",
       "      <th>Age</th>\n",
       "      <th>T0_SBP</th>\n",
       "      <th>SBP</th>\n",
       "      <th>Weight</th>\n",
       "      <th>T0_HR</th>\n",
       "      <th>DBP</th>\n",
       "      <th>...</th>\n",
       "      <th>Operation</th>\n",
       "      <th>Sex_1</th>\n",
       "      <th>Allergy</th>\n",
       "      <th>Sex_2</th>\n",
       "      <th>Drinking</th>\n",
       "      <th>Smoking</th>\n",
       "      <th>Cancer</th>\n",
       "      <th>Anemia</th>\n",
       "      <th>Hepatitis</th>\n",
       "      <th>Hypertension</th>\n",
       "    </tr>\n",
       "  </thead>\n",
       "  <tbody>\n",
       "    <tr>\n",
       "      <th>accuracy</th>\n",
       "      <td>0.765844</td>\n",
       "      <td>0.708999</td>\n",
       "      <td>0.759676</td>\n",
       "      <td>0.772254</td>\n",
       "      <td>0.753024</td>\n",
       "      <td>0.727746</td>\n",
       "      <td>0.759676</td>\n",
       "      <td>0.746613</td>\n",
       "      <td>0.746976</td>\n",
       "      <td>0.759434</td>\n",
       "      <td>...</td>\n",
       "      <td>0.772134</td>\n",
       "      <td>0.772134</td>\n",
       "      <td>0.765723</td>\n",
       "      <td>0.772134</td>\n",
       "      <td>0.772134</td>\n",
       "      <td>0.772134</td>\n",
       "      <td>0.772134</td>\n",
       "      <td>0.772134</td>\n",
       "      <td>0.772134</td>\n",
       "      <td>0.772134</td>\n",
       "    </tr>\n",
       "  </tbody>\n",
       "</table>\n",
       "<p>1 rows × 27 columns</p>\n",
       "</div>"
      ],
      "text/plain": [
       "          Heart_Rate    T0_MAP       BMI    Height       Age    T0_SBP  \\\n",
       "accuracy    0.765844  0.708999  0.759676  0.772254  0.753024  0.727746   \n",
       "\n",
       "               SBP    Weight     T0_HR       DBP  ...  Operation     Sex_1  \\\n",
       "accuracy  0.759676  0.746613  0.746976  0.759434  ...   0.772134  0.772134   \n",
       "\n",
       "           Allergy     Sex_2  Drinking   Smoking    Cancer    Anemia  \\\n",
       "accuracy  0.765723  0.772134  0.772134  0.772134  0.772134  0.772134   \n",
       "\n",
       "          Hepatitis  Hypertension  \n",
       "accuracy   0.772134      0.772134  \n",
       "\n",
       "[1 rows x 27 columns]"
      ]
     },
     "execution_count": 92,
     "metadata": {},
     "output_type": "execute_result"
    }
   ],
   "source": [
    "df"
   ]
  },
  {
   "cell_type": "code",
   "execution_count": 93,
   "id": "e64f6169",
   "metadata": {},
   "outputs": [
    {
     "data": {
      "image/png": "[encoded data removed]",
      "text/plain": [
       "<Figure size 432x288 with 1 Axes>"
      ]
     },
     "metadata": {
      "needs_background": "light"
     },
     "output_type": "display_data"
    }
   ],
   "source": [
    "df.T.plot(kind='bar')\n",
    "plt.show()"
   ]
  },
  {
   "cell_type": "code",
   "execution_count": null,
   "id": "712206a7",
   "metadata": {},
   "outputs": [],
   "source": []
  }
 ],
 "metadata": {
  "kernelspec": {
   "display_name": "Python 3 (ipykernel)",
   "language": "python",
   "name": "python3"
  },
  "language_info": {
   "codemirror_mode": {
    "name": "ipython",
    "version": 3
   },
   "file_extension": ".py",
   "mimetype": "text/x-python",
   "name": "python",
   "nbconvert_exporter": "python",
   "pygments_lexer": "ipython3",
   "version": "3.9.12"
  }
 },
 "nbformat": 4,
 "nbformat_minor": 5
}
